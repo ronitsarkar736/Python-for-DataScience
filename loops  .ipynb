{
 "cells": [
  {
   "cell_type": "code",
   "execution_count": 11,
   "id": "3cbf854d",
   "metadata": {},
   "outputs": [
    {
     "name": "stdout",
     "output_type": "stream",
     "text": [
      "Enter the number: 23\n",
      "Factorial of your number is: 25852016738884976640000\n"
     ]
    }
   ],
   "source": [
    "\n",
    "\n",
    "#1) Calculate factorial of a number\n",
    "num = int(input(\"Enter the number: \"))\n",
    "factorial_result = 1\n",
    "\n",
    "while num != 0:\n",
    "    factorial_result = factorial_result * num\n",
    "    num = num - 1\n",
    "\n",
    "print(\"Factorial of your number is:\", factorial_result)\n"
   ]
  },
  {
   "cell_type": "code",
   "execution_count": 1,
   "id": "f30fce3c",
   "metadata": {},
   "outputs": [
    {
     "name": "stdout",
     "output_type": "stream",
     "text": [
      "Enter the word: bat\n",
      "Reversed word: tab\n"
     ]
    }
   ],
   "source": [
    "#2) Reverse a word\n",
    "input_word = input(\"Enter the word: \")\n",
    "reversed_result = input_word[::-1]\n",
    "print(\"Reversed word:\", reversed_result)"
   ]
  },
  {
   "cell_type": "code",
   "execution_count": 2,
   "id": "84b68a54",
   "metadata": {},
   "outputs": [
    {
     "name": "stdout",
     "output_type": "stream",
     "text": [
      "Enter a number: 34\n",
      "Reversed number: 43\n"
     ]
    }
   ],
   "source": [
    "#3) Reverse a number\n",
    "input_number = int(input(\"Enter a number: \"))\n",
    "result_reversed = int(str(input_number)[::-1])\n",
    "print(\"Reversed number:\", result_reversed)"
   ]
  },
  {
   "cell_type": "code",
   "execution_count": 3,
   "id": "409aaa8c",
   "metadata": {},
   "outputs": [
    {
     "name": "stdout",
     "output_type": "stream",
     "text": [
      "Enter the number: 5\n",
      "5\n",
      "4\n",
      "3\n",
      "2\n",
      "1\n",
      "0\n"
     ]
    }
   ],
   "source": [
    "#4) Count down from a given number\n",
    "user_input = int(input(\"Enter the number: \"))\n",
    "\n",
    "while user_input >= 0:\n",
    "    print(user_input)\n",
    "    user_input -= 1"
   ]
  },
  {
   "cell_type": "code",
   "execution_count": 4,
   "id": "1d279c66",
   "metadata": {},
   "outputs": [
    {
     "name": "stdout",
     "output_type": "stream",
     "text": [
      "7\n",
      "14\n",
      "21\n",
      "28\n",
      "35\n",
      "42\n",
      "49\n"
     ]
    }
   ],
   "source": [
    "#5) Display the first 7 multiples of 7 using a while loop\n",
    "i = 1\n",
    "while i <= 7:\n",
    "    result = 7 * i\n",
    "    print(result)\n",
    "    i += 1"
   ]
  },
  {
   "cell_type": "code",
   "execution_count": 6,
   "id": "7c0076ce",
   "metadata": {},
   "outputs": [
    {
     "name": "stdout",
     "output_type": "stream",
     "text": [
      "Enter a number (-1 to stop): 2\n",
      "Enter a number (-1 to stop): 1\n",
      "Enter a number (-1 to stop): -1\n",
      "Updated list: [4, 1]\n"
     ]
    }
   ],
   "source": [
    "#6) Append the squares of multiple numbers to a list using a while loop with a stop condition\n",
    "result_list = []\n",
    "\n",
    "while True:\n",
    "    user_input = int(input(\"Enter a number (-1 to stop): \"))\n",
    "    \n",
    "    if user_input == -1:\n",
    "        break\n",
    "    \n",
    "    squared_result = user_input ** 2\n",
    "    result_list.append(squared_result)\n",
    "\n",
    "print(\"Updated list:\", result_list)"
   ]
  },
  {
   "cell_type": "code",
   "execution_count": 7,
   "id": "72b40f6d",
   "metadata": {},
   "outputs": [
    {
     "name": "stdout",
     "output_type": "stream",
     "text": [
      "Positive numbers: [5, 8, 7]\n",
      "Negative numbers: [-1, -2, -7]\n"
     ]
    }
   ],
   "source": [
    "#7) Separate positive and negative numbers from a list\n",
    "original_list = [5, 8, -1, 7, -2, -7]\n",
    "positive_numbers = []\n",
    "negative_numbers = []\n",
    "for num in original_list:\n",
    "    if num > 0:\n",
    "        positive_numbers.append(num)\n",
    "    else:\n",
    "        negative_numbers.append(num)\n",
    "print(\"Positive numbers:\", positive_numbers)\n",
    "print(\"Negative numbers:\", negative_numbers)\n"
   ]
  },
  {
   "cell_type": "code",
   "execution_count": 8,
   "id": "d54e0bac",
   "metadata": {},
   "outputs": [
    {
     "name": "stdout",
     "output_type": "stream",
     "text": [
      "Types of elements: [<class 'int'>, <class 'int'>, <class 'str'>, <class 'bool'>, <class 'float'>]\n"
     ]
    }
   ],
   "source": [
    "#8) Append the types of elements from a list to a new list\n",
    "original_list = [1, -5, 'khushi', True, 3.14]\n",
    "types_list = []\n",
    "\n",
    "for item in original_list:\n",
    "    types_list.append(type(item))\n",
    "\n",
    "print(\"Types of elements:\", types_list)"
   ]
  },
  {
   "cell_type": "code",
   "execution_count": 9,
   "id": "2d4f109e",
   "metadata": {},
   "outputs": [
    {
     "name": "stdout",
     "output_type": "stream",
     "text": [
      "Even numbers: [98]\n",
      "Odd numbers: [67, 23, 67, 43]\n"
     ]
    }
   ],
   "source": [
    "#9) Filter even and odd numbers from a list\n",
    "original_list = [67,98,23,67,43]\n",
    "even_numbers_list = []\n",
    "odd_numbers_list = []\n",
    "\n",
    "for num in original_list:\n",
    "    if num % 2 == 0:\n",
    "        even_numbers_list.append(num)\n",
    "    else:\n",
    "        odd_numbers_list.append(num)\n",
    "\n",
    "print(\"Even numbers:\", even_numbers_list)\n",
    "print(\"Odd numbers:\", odd_numbers_list)"
   ]
  },
  {
   "cell_type": "code",
   "execution_count": 10,
   "id": "65f5e49e",
   "metadata": {},
   "outputs": [
    {
     "name": "stdout",
     "output_type": "stream",
     "text": [
      "Dictionary with even values: {'a': 10, 'c': 24, 'e': 42}\n"
     ]
    }
   ],
   "source": [
    "#10) Fetch even values from a dictionary\n",
    "my_dict = {'a': 10, 'b': 15, 'c': 24, 'd': 31, 'e': 42}\n",
    "even_values_dict = {}\n",
    "\n",
    "for key, value in my_dict.items():\n",
    "    if value % 2 == 0:\n",
    "        even_values_dict[key] = value\n",
    "\n",
    "print(\"Dictionary with even values:\", even_values_dict)"
   ]
  },
  {
   "cell_type": "code",
   "execution_count": null,
   "id": "5a02270a",
   "metadata": {},
   "outputs": [],
   "source": []
  }
 ],
 "metadata": {
  "kernelspec": {
   "display_name": "Python 3 (ipykernel)",
   "language": "python",
   "name": "python3"
  },
  "language_info": {
   "codemirror_mode": {
    "name": "ipython",
    "version": 3
   },
   "file_extension": ".py",
   "mimetype": "text/x-python",
   "name": "python",
   "nbconvert_exporter": "python",
   "pygments_lexer": "ipython3",
   "version": "3.11.5"
  }
 },
 "nbformat": 4,
 "nbformat_minor": 5
}
