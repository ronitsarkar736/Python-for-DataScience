{
 "cells": [
  {
   "cell_type": "code",
   "execution_count": 1,
   "id": "d1b393ce",
   "metadata": {},
   "outputs": [
    {
     "name": "stdout",
     "output_type": "stream",
     "text": [
      "enter the first number=65\n",
      "enter the second number=66\n",
      "enter the third number=45\n",
      "maximum number is = 66\n"
     ]
    }
   ],
   "source": [
    "\n",
    "#Q.1)Write a Python function to find the maximum of three numbers.\n",
    "num1 = int(input(\"enter the first number=\"))\n",
    "num2 = int(input(\"enter the second number=\"))\n",
    "num3 = int(input(\"enter the third number=\"))\n",
    "maximum_number = max(num1,num2,num3)\n",
    "print(\"maximum number is =\",maximum_number)\n",
    "\n"
   ]
  },
  {
   "cell_type": "code",
   "execution_count": 2,
   "id": "b649fa0d",
   "metadata": {},
   "outputs": [
    {
     "name": "stdout",
     "output_type": "stream",
     "text": [
      "sum of the numbers in list = 278\n"
     ]
    }
   ],
   "source": [
    "#Q.2) Write a Python function to sum all the numbers in a list.\n",
    "list1 = [34,67,89,23,65]\n",
    "add_number = sum(list1)\n",
    "print(\"sum of the numbers in list =\",add_number)\n"
   ]
  },
  {
   "cell_type": "code",
   "execution_count": 3,
   "id": "0f538241",
   "metadata": {},
   "outputs": [
    {
     "name": "stdout",
     "output_type": "stream",
     "text": [
      "multiplication of all the number in list is = 540\n"
     ]
    }
   ],
   "source": [
    "#Q.3) Write a Python function to multiply all the numbers in a list.\n",
    "list2 = [1,2,5,6,9]\n",
    "result = 1\n",
    "for number in list2:\n",
    "    result *= number\n",
    "print(\"multiplication of all the number in list is =\",result)"
   ]
  },
  {
   "cell_type": "code",
   "execution_count": 4,
   "id": "1d6bb306",
   "metadata": {},
   "outputs": [
    {
     "name": "stdout",
     "output_type": "stream",
     "text": [
      "enter the string word which you want to reverse=ball\n",
      "llab\n"
     ]
    }
   ],
   "source": [
    "#Q.4) Write a Python program to reverse a string. \n",
    "string = input(\"enter the string word which you want to reverse=\")\n",
    "reversed_string = string[::-1]\n",
    "print(reversed_string)"
   ]
  },
  {
   "cell_type": "code",
   "execution_count": 5,
   "id": "6277edba",
   "metadata": {},
   "outputs": [
    {
     "name": "stdout",
     "output_type": "stream",
     "text": [
      "enter the number = 25\n",
      "factorial of entered number is = 15511210043330985984000000\n"
     ]
    }
   ],
   "source": [
    "#Q.5) Write a Python function to calculate the factorial of a number (a non-negative\n",
    "#integer). The function accepts the number as an argument.\n",
    "def factorial(number):\n",
    "    if number<0:\n",
    "        print(\"factorial of negetive number is not defined\")\n",
    "    elif number==0 or number==1:\n",
    "        print(\"factorial of entered number is = 1\")\n",
    "    else:\n",
    "        final_factorial = 1\n",
    "        for i in range(2,number + 1):\n",
    "            final_factorial *= i\n",
    "    print(\"factorial of entered number is =\",final_factorial)\n",
    "number = int(input(\"enter the number = \"))\n",
    "factorial(number)"
   ]
  },
  {
   "cell_type": "code",
   "execution_count": 6,
   "id": "da43be1f",
   "metadata": {},
   "outputs": [
    {
     "name": "stdout",
     "output_type": "stream",
     "text": [
      "enter the start range = 1\n",
      "enter the end range = 11\n",
      "enter the number=6\n",
      "yes entered number is in specified range\n"
     ]
    }
   ],
   "source": [
    "#Q.6) Write a Python function to check whether a number falls within a given range.\n",
    "start_range = int(input(\"enter the start range = \"))\n",
    "end_range = int(input(\"enter the end range = \"))\n",
    "number_to_check = int(input(\"enter the number=\"))\n",
    "if start_range<=number_to_check<=end_range:\n",
    "    print(\"yes entered number is in specified range\")\n",
    "else:\n",
    "    print(\"not in range\")"
   ]
  },
  {
   "cell_type": "code",
   "execution_count": 8,
   "id": "6596879b",
   "metadata": {},
   "outputs": [
    {
     "name": "stdout",
     "output_type": "stream",
     "text": [
      "Enter a word or sentence: Hello Python\n",
      "Number of lowercase letters: 9\n",
      "Number of uppercase letters: 2\n"
     ]
    }
   ],
   "source": [
    "#Q.7) Write a Python function that accepts a string and counts the number of upper and lower case \n",
    "#letter.\n",
    "def count_lower_upper(word):\n",
    "    lower_count = 0\n",
    "    upper_count = 0\n",
    "    for char in word:\n",
    "        if char.islower():\n",
    "            lower_count += 1\n",
    "        elif char.isupper():\n",
    "            upper_count += 1\n",
    "    return lower_count, upper_count\n",
    "input_word = input(\"Enter a word or sentence: \")\n",
    "lower_count, upper_count = count_lower_upper(input_word)\n",
    "print(\"Number of lowercase letters:\", lower_count)\n",
    "print(\"Number of uppercase letters:\", upper_count)\n"
   ]
  },
  {
   "cell_type": "code",
   "execution_count": 9,
   "id": "59ee4428",
   "metadata": {},
   "outputs": [
    {
     "name": "stdout",
     "output_type": "stream",
     "text": [
      "Sample List: [1, 2, 3, 3, 3, 3, 4, 5]\n",
      "Unique List: [1, 2, 3, 4, 5]\n"
     ]
    }
   ],
   "source": [
    "#Q.8) Write a Python function that takes a list and returns a new list with distinct elements\n",
    "#from the first list.\n",
    "def get_unique_elements(input_list):\n",
    "    unique_list = list(set(input_list))\n",
    "    return unique_list\n",
    "# Example usage:\n",
    "sample_list = [1, 2, 3, 3, 3, 3, 4, 5]\n",
    "result = get_unique_elements(sample_list)\n",
    "print(\"Sample List:\", sample_list)\n",
    "print(\"Unique List:\", result)"
   ]
  },
  {
   "cell_type": "code",
   "execution_count": 13,
   "id": "982bb466",
   "metadata": {},
   "outputs": [
    {
     "name": "stdout",
     "output_type": "stream",
     "text": [
      "Enter the number: 13\n",
      "Prime\n"
     ]
    }
   ],
   "source": [
    "#Q.9) Write a Python function that takes a number as a parameter and checks whether the\n",
    "#number is prime or not. \n",
    "def check_prime(number):\n",
    "    if number > 1:\n",
    "        for i in range(2, int(number**0.5) + 1):\n",
    "            if (number % i) == 0:\n",
    "                print(\"Not prime\")\n",
    "                break\n",
    "        else:\n",
    "            print(\"Prime\")\n",
    "    else:\n",
    "        print(\"Not prime\")\n",
    "number = int(input(\"Enter the number: \"))\n",
    "check_prime(number)\n"
   ]
  },
  {
   "cell_type": "code",
   "execution_count": 14,
   "id": "f9a0ef28",
   "metadata": {},
   "outputs": [
    {
     "name": "stdout",
     "output_type": "stream",
     "text": [
      "all the even number are in list =  [24]\n"
     ]
    }
   ],
   "source": [
    "#Q.10) Write a Python program to print the even numbers from a given list.\n",
    "list5 = [23,53,67,24]\n",
    "even_list =[]\n",
    "for x in list5:\n",
    "    if x%2==0:\n",
    "        even_list.append(x)\n",
    "        print(\"all the even number are in list = \",even_list)"
   ]
  },
  {
   "cell_type": "code",
   "execution_count": 15,
   "id": "6d56999e",
   "metadata": {},
   "outputs": [
    {
     "name": "stdout",
     "output_type": "stream",
     "text": [
      "Enter a number: 4\n",
      "4 is not a perfect number.\n"
     ]
    }
   ],
   "source": [
    "#Q.11) Write a Python function to check whether a number is \"Perfect\" or not.\n",
    "def is_perfect_number(number):\n",
    "    if number <= 0:\n",
    "        return False    \n",
    "    divisors_sum = 0\n",
    "    for i in range(1, number):\n",
    "        if number % i == 0:\n",
    "            divisors_sum += i\n",
    "    return divisors_sum == number\n",
    "# Example usage:\n",
    "number = int(input(\"Enter a number: \"))\n",
    "if is_perfect_number(number):\n",
    "    print(f\"{number} is a perfect number.\")\n",
    "else:\n",
    "    print(f\"{number} is not a perfect number.\")"
   ]
  },
  {
   "cell_type": "code",
   "execution_count": 17,
   "id": "89b36ccd",
   "metadata": {},
   "outputs": [
    {
     "name": "stdout",
     "output_type": "stream",
     "text": [
      "Enter a string: wow\n",
      "wow is a palindrome.\n"
     ]
    }
   ],
   "source": [
    "#Q.12) Write a Python function that checks whether a passed string is a palindrome or not.\n",
    "def is_palindrome(string):\n",
    "    # Compare the original string with its reverse\n",
    "    return string == string[::-1]\n",
    "# Example usage:\n",
    "input_string = input(\"Enter a string: \")\n",
    "if is_palindrome(input_string):\n",
    "    print(f\"{input_string} is a palindrome.\")\n",
    "else:\n",
    "    print(f\"{input_string} is not a palindrome.\")"
   ]
  },
  {
   "cell_type": "code",
   "execution_count": 18,
   "id": "4328ef88",
   "metadata": {},
   "outputs": [
    {
     "name": "stdout",
     "output_type": "stream",
     "text": [
      "Enter the number of rows for Pascal's triangle: 5\n",
      "    1    \n",
      "   1 1   \n",
      "  1 2 1  \n",
      " 1 3 3 1 \n",
      "1 4 6 4 1\n"
     ]
    }
   ],
   "source": [
    "#Q.13) Write a Python function that prints out the first n rows of Pascal's triangle. \n",
    "def generate_pascals_triangle(n):\n",
    "    triangle = []\n",
    "    for i in range(n):\n",
    "        row = [1 if j == 0 or j == i else row[j - 1] + row[j] for j in range(i + 1)]\n",
    "        triangle.append(row)\n",
    "    return triangle\n",
    "def print_pascals_triangle(triangle):\n",
    "    for row in triangle:\n",
    "        print(' '.join(map(str, row)).center(len(triangle[-1]) * 2 - 1))\n",
    "# Example usage:\n",
    "n = int(input(\"Enter the number of rows for Pascal's triangle: \"))\n",
    "triangle = generate_pascals_triangle(n)\n",
    "print_pascals_triangle(triangle)"
   ]
  },
  {
   "cell_type": "code",
   "execution_count": 24,
   "id": "fb94faad",
   "metadata": {},
   "outputs": [
    {
     "name": "stdout",
     "output_type": "stream",
     "text": [
      "Enter a string: b\n",
      "The string is not a pangram.\n"
     ]
    }
   ],
   "source": [
    "#Q.14)Write a Python function to check whether a string is a pangram or not.\n",
    "def is_pangram(string):\n",
    "    # Convert the string to lowercase\n",
    "    string = string.lower()\n",
    "\n",
    "    # Check if all the letters from 'a' to 'z' are present in the string\n",
    "    return all(letter in string for letter in 'abcdefghijklmnopqrstuvwxyz')\n",
    "\n",
    "# Example usage:\n",
    "input_string = input(\"Enter a string: \")\n",
    "if is_pangram(input_string):\n",
    "    print(\"The string is a pangram.\")\n",
    "else:\n",
    "    print(\"The string is not a pangram.\")"
   ]
  },
  {
   "cell_type": "code",
   "execution_count": 26,
   "id": "9cb86d30",
   "metadata": {},
   "outputs": [
    {
     "name": "stdout",
     "output_type": "stream",
     "text": [
      "Enter a hyphen-separated sequence of words: bus\n",
      "Expected Result: bus\n"
     ]
    }
   ],
   "source": [
    "#Q.15) Accept hyphen-separated sequence of words as input and prints the words in a hyphen-separated \n",
    "#sequence after sorting them alphabetically\n",
    "input_sequence = input(\"Enter a hyphen-separated sequence of words: \")\n",
    "# Split the input sequence into a list of words\n",
    "words = input_sequence.split('-')\n",
    "# Sort the words alphabetically\n",
    "sorted_words = sorted(words)\n",
    "# Join the sorted words into a hyphen-separated sequence\n",
    "result = '-'.join(sorted_words)\n",
    "# Print the result\n",
    "print(\"Expected Result:\", result)"
   ]
  },
  {
   "cell_type": "code",
   "execution_count": null,
   "id": "898bc058",
   "metadata": {},
   "outputs": [],
   "source": []
  }
 ],
 "metadata": {
  "kernelspec": {
   "display_name": "Python 3 (ipykernel)",
   "language": "python",
   "name": "python3"
  },
  "language_info": {
   "codemirror_mode": {
    "name": "ipython",
    "version": 3
   },
   "file_extension": ".py",
   "mimetype": "text/x-python",
   "name": "python",
   "nbconvert_exporter": "python",
   "pygments_lexer": "ipython3",
   "version": "3.11.5"
  }
 },
 "nbformat": 4,
 "nbformat_minor": 5
}
