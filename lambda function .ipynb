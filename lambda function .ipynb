{
 "cells": [
  {
   "cell_type": "code",
   "execution_count": 1,
   "id": "74cbf687",
   "metadata": {},
   "outputs": [
    {
     "name": "stdout",
     "output_type": "stream",
     "text": [
      "25\n",
      "48\n"
     ]
    }
   ],
   "source": [
    "#Q.1) Write a Python program to create a lambda function that adds 15 to a given number passed in as an argument, also \n",
    "#create a lambda function that multiplies argument x with argument y and prints the result.\n",
    "\n",
    "# Lambda function to add 15 to a given number\n",
    "add_15 = lambda x: x + 15\n",
    "# Lambda function to multiply two numbers\n",
    "multiply = lambda x, y: x * y\n",
    "# Sample usage\n",
    "result1 = add_15(10)\n",
    "result2 = multiply(4, 12)\n",
    "print(result1)  \n",
    "print(result2)\n"
   ]
  },
  {
   "cell_type": "code",
   "execution_count": 2,
   "id": "1dc11983",
   "metadata": {},
   "outputs": [
    {
     "name": "stdout",
     "output_type": "stream",
     "text": [
      "Double the number of 15 = 75\n",
      "Triple the number of 15 = 112.5\n",
      "Quadruple the number of 15 = 150\n",
      "Quintuple the number 15 = 187.5\n"
     ]
    }
   ],
   "source": [
    "#Q.2) Write a Python program to create a function that takes one argument, and that argument will be multiplied with an unknown \n",
    "#given number.\n",
    "\n",
    "def multiply_with_unknown_number(x):\n",
    "    unknown_number = 5  # You can change this to any desired number\n",
    "    result = x * unknown_number\n",
    "    return result\n",
    "\n",
    "# Sample usage\n",
    "number = 15\n",
    "double_result = multiply_with_unknown_number(number)\n",
    "triple_result = multiply_with_unknown_number(number) * 1.5  # Example of multiplying by 1.5\n",
    "quadruple_result = multiply_with_unknown_number(number) * 2\n",
    "quintuple_result = multiply_with_unknown_number(number) * 2.5  # Example of multiplying by 2.5\n",
    "\n",
    "# Output\n",
    "print(f\"Double the number of {number} = {double_result}\")\n",
    "print(f\"Triple the number of {number} = {triple_result}\")\n",
    "print(f\"Quadruple the number of {number} = {quadruple_result}\")\n",
    "print(f\"Quintuple the number {number} = {quintuple_result}\")\n"
   ]
  },
  {
   "cell_type": "code",
   "execution_count": 3,
   "id": "44f537f0",
   "metadata": {},
   "outputs": [
    {
     "name": "stdout",
     "output_type": "stream",
     "text": [
      "Original list of tuples:\n",
      "[('English', 88), ('Science', 90), ('Maths', 97), ('Social sciences', 82)]\n",
      "\n",
      "Sorting the List of Tuples:\n",
      "[('Social sciences', 82), ('English', 88), ('Science', 90), ('Maths', 97)]\n"
     ]
    }
   ],
   "source": [
    "#Q.3) Write a Python program to sort a list of tuples using Lambda.\n",
    "\n",
    "# Original list of tuples\n",
    "original_list = [('English', 88), ('Science', 90), ('Maths', 97), ('Social sciences', 82)]\n",
    "\n",
    "# Sorting the list of tuples based on the second element (marks)\n",
    "sorted_list = sorted(original_list, key=lambda x: x[1])\n",
    "\n",
    "# Output\n",
    "print(\"Original list of tuples:\")\n",
    "print(original_list)\n",
    "print(\"\\nSorting the List of Tuples:\")\n",
    "print(sorted_list)"
   ]
  },
  {
   "cell_type": "code",
   "execution_count": 4,
   "id": "0d67c58b",
   "metadata": {},
   "outputs": [
    {
     "name": "stdout",
     "output_type": "stream",
     "text": [
      "Original list of dictionaries:\n",
      "[{'make': 'Nokia', 'model': 216, 'color': 'Black'}, {'make': 'Mi Max', 'model': '2', 'color': 'Gold'}, {'make': 'Samsung', 'model': 7, 'color': 'Blue'}]\n",
      "\n",
      "Sorting the List of dictionaries:\n",
      "[{'make': 'Mi Max', 'model': '2', 'color': 'Gold'}, {'make': 'Nokia', 'model': 216, 'color': 'Black'}, {'make': 'Samsung', 'model': 7, 'color': 'Blue'}]\n"
     ]
    }
   ],
   "source": [
    "#Q.4) Write a Python program to sort a list of dictionaries using Lambda.\n",
    "\n",
    "# Original list of dictionaries\n",
    "original_list = [\n",
    "    {'make': 'Nokia', 'model': 216, 'color': 'Black'},\n",
    "    {'make': 'Mi Max', 'model': '2', 'color': 'Gold'},\n",
    "    {'make': 'Samsung', 'model': 7, 'color': 'Blue'}\n",
    "]\n",
    "\n",
    "# Sorting the list of dictionaries based on the 'make' key\n",
    "sorted_list = sorted(original_list, key=lambda x: x['make'])\n",
    "\n",
    "# Output\n",
    "print(\"Original list of dictionaries:\")\n",
    "print(original_list)\n",
    "print(\"\\nSorting the List of dictionaries:\")\n",
    "print(sorted_list)"
   ]
  },
  {
   "cell_type": "code",
   "execution_count": 5,
   "id": "2bc52119",
   "metadata": {},
   "outputs": [
    {
     "name": "stdout",
     "output_type": "stream",
     "text": [
      "Original list of integers:\n",
      "[1, 2, 3, 4, 5, 6, 7, 8, 9, 10]\n",
      "\n",
      "Even numbers from the said list:\n",
      "[2, 4, 6, 8, 10]\n",
      "Odd numbers from the said list:\n",
      "[1, 3, 5, 7, 9]\n"
     ]
    }
   ],
   "source": [
    "#Q.5) Write a Python program to filter a list of integers using Lambda.\n",
    "\n",
    "# Original list of integers\n",
    "original_list = [1, 2, 3, 4, 5, 6, 7, 8, 9, 10]\n",
    "\n",
    "# Using lambda and filter to get even numbers\n",
    "even_numbers = list(filter(lambda x: x % 2 == 0, original_list))\n",
    "\n",
    "# Using lambda and filter to get odd numbers\n",
    "odd_numbers = list(filter(lambda x: x % 2 != 0, original_list))\n",
    "\n",
    "# Output\n",
    "print(\"Original list of integers:\")\n",
    "print(original_list)\n",
    "print(\"\\nEven numbers from the said list:\")\n",
    "print(even_numbers)\n",
    "print(\"Odd numbers from the said list:\")\n",
    "print(odd_numbers)"
   ]
  },
  {
   "cell_type": "code",
   "execution_count": 6,
   "id": "e03b8acf",
   "metadata": {},
   "outputs": [
    {
     "name": "stdout",
     "output_type": "stream",
     "text": [
      "Original list of integers:\n",
      "[1, 2, 3, 4, 5, 6, 7, 8, 9, 10]\n",
      "\n",
      "Square every number of the said list:\n",
      "[1, 4, 9, 16, 25, 36, 49, 64, 81, 100]\n",
      "Cube every number of the said list:\n",
      "[1, 8, 27, 64, 125, 216, 343, 512, 729, 1000]\n"
     ]
    }
   ],
   "source": [
    "#Q.6) Write a Python program to square and cube every number in a given list of\n",
    "\n",
    "# Original list of integers\n",
    "original_list = [1, 2, 3, 4, 5, 6, 7, 8, 9, 10]\n",
    "\n",
    "# Using lambda and map to square every number\n",
    "squared_numbers = list(map(lambda x: x**2, original_list))\n",
    "\n",
    "# Using lambda and map to cube every number\n",
    "cubed_numbers = list(map(lambda x: x**3, original_list))\n",
    "\n",
    "# Output\n",
    "print(\"Original list of integers:\")\n",
    "print(original_list)\n",
    "print(\"\\nSquare every number of the said list:\")\n",
    "print(squared_numbers)\n",
    "print(\"Cube every number of the said list:\")\n",
    "print(cubed_numbers)"
   ]
  },
  {
   "cell_type": "code",
   "execution_count": 7,
   "id": "b56a74de",
   "metadata": {},
   "outputs": [
    {
     "name": "stdout",
     "output_type": "stream",
     "text": [
      "True\n",
      "False\n"
     ]
    }
   ],
   "source": [
    "#Q.7) Write a Python program to find if a given string starts with a given character using Lambda.\n",
    "\n",
    "# Lambda function to check if a string starts with a given character\n",
    "starts_with_char = lambda string, char: string.startswith(char)\n",
    "\n",
    "# Sample usage\n",
    "string1 = \"Hello, World!\"\n",
    "char1 = \"H\"\n",
    "result1 = starts_with_char(string1, char1)\n",
    "print(result1)  \n",
    "\n",
    "string2 = \"Python\"\n",
    "char2 = \"X\"\n",
    "result2 = starts_with_char(string2, char2)\n",
    "print(result2)"
   ]
  },
  {
   "cell_type": "code",
   "execution_count": 8,
   "id": "60346835",
   "metadata": {},
   "outputs": [
    {
     "name": "stdout",
     "output_type": "stream",
     "text": [
      "2020-01-15 09:03:32.744178\n",
      "2020\n",
      "1\n",
      "15\n",
      "09:03:32.744178\n"
     ]
    }
   ],
   "source": [
    "#Q.8) Write a Python program to extract year, month, date and time using Lambda.\n",
    "\n",
    "from datetime import datetime\n",
    "\n",
    "# Original datetime string\n",
    "datetime_string = \"2020-01-15 09:03:32.744178\"\n",
    "\n",
    "# Lambda functions to extract year, month, date, and time\n",
    "extract_year = lambda dt_str: datetime.strptime(dt_str, \"%Y-%m-%d %H:%M:%S.%f\").year\n",
    "extract_month = lambda dt_str: datetime.strptime(dt_str, \"%Y-%m-%d %H:%M:%S.%f\").month\n",
    "extract_date = lambda dt_str: datetime.strptime(dt_str, \"%Y-%m-%d %H:%M:%S.%f\").day\n",
    "extract_time = lambda dt_str: datetime.strptime(dt_str, \"%Y-%m-%d %H:%M:%S.%f\").strftime(\"%H:%M:%S.%f\")\n",
    "\n",
    "# Output\n",
    "print(datetime_string)\n",
    "print(extract_year(datetime_string))\n",
    "print(extract_month(datetime_string))\n",
    "print(extract_date(datetime_string))\n",
    "print(extract_time(datetime_string))"
   ]
  },
  {
   "cell_type": "code",
   "execution_count": 9,
   "id": "c0175c20",
   "metadata": {},
   "outputs": [
    {
     "name": "stdout",
     "output_type": "stream",
     "text": [
      "True\n",
      "True\n",
      "False\n",
      "False\n",
      "False\n"
     ]
    }
   ],
   "source": [
    "#Q.9) Write a Python program to check whether a given string is a number or not using Lambda.\n",
    "# Lambda function to check if a string is a number\n",
    "is_number = lambda s: s.isdigit() if s.isdigit() else s.count('.') == 1 and s.replace('.', '').isdigit()\n",
    "\n",
    "# Sample usage\n",
    "print(is_number(\"123\"))        \n",
    "print(is_number(\"3.14\"))       \n",
    "print(is_number(\"-42\"))        \n",
    "print(is_number(\"10.5.5\"))      \n",
    "print(is_number(\"abc\"))    "
   ]
  },
  {
   "cell_type": "code",
   "execution_count": 10,
   "id": "51de9700",
   "metadata": {},
   "outputs": [
    {
     "name": "stdout",
     "output_type": "stream",
     "text": [
      "Fibonacci series upto 2: [0, 1]\n",
      "Fibonacci series upto 3: [0, 1, 1]\n",
      "Fibonacci series upto 4: [0, 1, 1, 2]\n",
      "Fibonacci series upto 5: [0, 1, 1, 2, 3]\n",
      "Fibonacci series upto 6: [0, 1, 1, 2, 3, 5]\n",
      "Fibonacci series upto 7: [0, 1, 1, 2, 3, 5, 8]\n",
      "Fibonacci series upto 8: [0, 1, 1, 2, 3, 5, 8, 13]\n",
      "Fibonacci series upto 9: [0, 1, 1, 2, 3, 5, 8, 13, 21]\n"
     ]
    }
   ],
   "source": [
    "#Q.10) Write a Python program to create Fibonacci series up to n using Lambda.\n",
    "#Fibonacci series upto 2=[0, 1]\n",
    "#Fibonacci series upto 5=[0, 1, 1, 2, 3]\n",
    "#Fibonacci series upto 6=[0, 1, 1, 2, 3, 5]\n",
    "#Fibonacci series upto 9=[0, 1, 1, 2, 3, 5, 8, 13, 21]\n",
    "# Lambda function to generate Fibonacci series up to n\n",
    "fibonacci_series = lambda n: [0, 1] if n == 2 else fibonacci_series(n - 1) + [fibonacci_series(n - 1)[-1] + fibonacci_series(n - 1)[-2]]\n",
    "\n",
    "# Sample usage\n",
    "for i in range(2, 10):\n",
    "    result = fibonacci_series(i)\n",
    "    print(f\"Fibonacci series upto {i}: {result}\")"
   ]
  },
  {
   "cell_type": "code",
   "execution_count": 11,
   "id": "035e4a08",
   "metadata": {},
   "outputs": [
    {
     "name": "stdout",
     "output_type": "stream",
     "text": [
      "Original arrays:\n",
      "[1, 2, 3, 5, 7, 8, 9, 10]\n",
      "[1, 2, 4, 8, 9]\n",
      "\n",
      "Intersection of the said arrays:\n",
      "[1, 2, 8, 9]\n"
     ]
    }
   ],
   "source": [
    "\n",
    "#Q.11) Write a Python program to find the intersection of two given arrays using Lambda.\n",
    "#Original arrays:\n",
    "#[1, 2, 3, 5, 7, 8, 9, 10]\n",
    "#[1, 2, 4, 8, 9]\n",
    "#Intersection of the said arrays: [1, 2, 8, 9]\n",
    "# Lambda function to find the intersection of two arrays\n",
    "intersection = lambda array1, array2: list(filter(lambda x: x in array1, array2))\n",
    "\n",
    "# Original arrays\n",
    "array1 = [1, 2, 3, 5, 7, 8, 9, 10]\n",
    "array2 = [1, 2, 4, 8, 9]\n",
    "\n",
    "# Finding the intersection using the lambda function\n",
    "result = intersection(array1, array2)\n",
    "\n",
    "# Output\n",
    "print(\"Original arrays:\")\n",
    "print(array1)\n",
    "print(array2)\n",
    "print(\"\\nIntersection of the said arrays:\")\n",
    "print(result)"
   ]
  },
  {
   "cell_type": "code",
   "execution_count": 12,
   "id": "2b821399",
   "metadata": {},
   "outputs": [
    {
     "name": "stdout",
     "output_type": "stream",
     "text": [
      "Original array:\n",
      "[-1, 2, -3, 5, 7, 8, 9, -10]\n",
      "\n",
      "Rearrange positive and negative numbers of the said array:\n",
      "[-1, -3, -10, 2, 5, 7, 8, 9]\n"
     ]
    }
   ],
   "source": [
    "#Q.12) Write a Python program to rearrange positive and negative numbers in a given array using Lambda.\n",
    "#Original arrays:\n",
    "#[-1, 2, -3, 5, 7, 8, 9, -10]\n",
    "#Rearrange positive and negative numbers of the said array:\n",
    "#[2, 5, 7, 8, 9, -10, -3, -1]\n",
    "# Lambda function to rearrange positive and negative numbers\n",
    "rearrange_numbers = lambda arr: sorted(arr, key=lambda x: (x >= 0, abs(x)))\n",
    "\n",
    "# Original array\n",
    "original_array = [-1, 2, -3, 5, 7, 8, 9, -10]\n",
    "\n",
    "# Rearrange using the lambda function\n",
    "result = rearrange_numbers(original_array)\n",
    "\n",
    "# Output\n",
    "print(\"Original array:\")\n",
    "print(original_array)\n",
    "print(\"\\nRearrange positive and negative numbers of the said array:\")\n",
    "print(result)\n"
   ]
  },
  {
   "cell_type": "code",
   "execution_count": 14,
   "id": "4361526b",
   "metadata": {},
   "outputs": [
    {
     "name": "stdout",
     "output_type": "stream",
     "text": [
      "Original array:\n",
      "[1, 2, 3, 5, 7, 8, 9, 10]\n",
      "\n",
      "Number of even numbers in the above array: 3\n",
      "Number of odd numbers in the above array: 5\n"
     ]
    }
   ],
   "source": [
    "#Q.13) Write a Python program to count the even and odd numbers in a given array of integers using Lambda.\n",
    "#Original arrays:\n",
    "#[1, 2, 3, 5, 7, 8, 9, 10]\n",
    "#Number of even numbers in the above array: 3\n",
    "#Number of odd numbers in the above array: 5\n",
    "\n",
    "# Lambda function to check if a number is even\n",
    "is_even = lambda x: x % 2 == 0\n",
    "\n",
    "# Original array\n",
    "original_array = [1, 2, 3, 5, 7, 8, 9, 10]\n",
    "\n",
    "# Counting even and odd numbers using the lambda function\n",
    "even_numbers_count = len(list(filter(is_even, original_array)))\n",
    "odd_numbers_count = len(original_array) - even_numbers_count\n",
    "\n",
    "# Output\n",
    "print(\"Original array:\")\n",
    "print(original_array)\n",
    "print(\"\\nNumber of even numbers in the above array:\", even_numbers_count)\n",
    "print(\"Number of odd numbers in the above array:\", odd_numbers_count)\n"
   ]
  },
  {
   "cell_type": "code",
   "execution_count": 15,
   "id": "a38a6f85",
   "metadata": {},
   "outputs": [
    {
     "name": "stdout",
     "output_type": "stream",
     "text": [
      "['Monday', 'Friday', 'Sunday']\n"
     ]
    }
   ],
   "source": [
    "\n",
    "#Q.14) Write a Python program to filter a given list to determine if the values in the list have a length of 6 using Lambda.\n",
    "#Sample Output:\n",
    "#Monday\n",
    "#Friday\n",
    "#Sunday\n",
    "\n",
    "# Given list\n",
    "days_of_week = ['Monday', 'Tuesday', 'Wednesday', 'Thursday', 'Friday', 'Saturday', 'Sunday']\n",
    "\n",
    "# Use filter and lambda to filter elements with a length of 6\n",
    "filtered_days = filter(lambda x: len(x) == 6, days_of_week)\n",
    "\n",
    "# Convert the filter object to a list and print the result\n",
    "result = list(filtered_days)\n",
    "print(result)\n"
   ]
  },
  {
   "cell_type": "code",
   "execution_count": 16,
   "id": "180aca6a",
   "metadata": {},
   "outputs": [
    {
     "name": "stdout",
     "output_type": "stream",
     "text": [
      "Result after adding two lists:\n",
      "[5, 7, 9]\n"
     ]
    }
   ],
   "source": [
    "#Q.15) Write a Python program to add two given lists using map and lambda.\n",
    "#Original list:\n",
    "#[1, 2, 3]\n",
    "#[4, 5, 6]\n",
    "#Result: after adding two list\n",
    "#[5, 7, 9]\n",
    "\n",
    "# Given lists\n",
    "list1 = [1, 2, 3]\n",
    "list2 = [4, 5, 6]\n",
    "\n",
    "# Use map and lambda to add corresponding elements of the two lists\n",
    "result = list(map(lambda x, y: x + y, list1, list2))\n",
    "\n",
    "# Print the result\n",
    "print(\"Result after adding two lists:\")\n",
    "print(result)\n"
   ]
  },
  {
   "cell_type": "code",
   "execution_count": null,
   "id": "f6f01877",
   "metadata": {},
   "outputs": [],
   "source": []
  }
 ],
 "metadata": {
  "kernelspec": {
   "display_name": "Python 3 (ipykernel)",
   "language": "python",
   "name": "python3"
  },
  "language_info": {
   "codemirror_mode": {
    "name": "ipython",
    "version": 3
   },
   "file_extension": ".py",
   "mimetype": "text/x-python",
   "name": "python",
   "nbconvert_exporter": "python",
   "pygments_lexer": "ipython3",
   "version": "3.11.5"
  }
 },
 "nbformat": 4,
 "nbformat_minor": 5
}
